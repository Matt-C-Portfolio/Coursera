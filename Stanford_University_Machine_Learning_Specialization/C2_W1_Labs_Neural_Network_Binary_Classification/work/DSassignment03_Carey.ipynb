{
 "cells": [
  {
   "cell_type": "code",
   "execution_count": 2,
   "id": "d9145c1e-2412-4219-8477-ccb524af7f6d",
   "metadata": {},
   "outputs": [],
   "source": [
    "import pandas as pd\n",
    "import matplotlib.pyplot as plt\n",
    "import seaborn as sns\n",
    "import statsmodels.formula.api as smf"
   ]
  },
  {
   "cell_type": "markdown",
   "id": "2d1ab68e-e73d-4064-a64b-29ede822dfaa",
   "metadata": {},
   "source": [
    "# Create Dataframes"
   ]
  },
  {
   "cell_type": "code",
   "execution_count": 3,
   "id": "ae793edc-1d54-4403-8eba-f08ffb55f738",
   "metadata": {},
   "outputs": [
    {
     "data": {
      "text/html": [
       "<div>\n",
       "<style scoped>\n",
       "    .dataframe tbody tr th:only-of-type {\n",
       "        vertical-align: middle;\n",
       "    }\n",
       "\n",
       "    .dataframe tbody tr th {\n",
       "        vertical-align: top;\n",
       "    }\n",
       "\n",
       "    .dataframe thead th {\n",
       "        text-align: right;\n",
       "    }\n",
       "</style>\n",
       "<table border=\"1\" class=\"dataframe\">\n",
       "  <thead>\n",
       "    <tr style=\"text-align: right;\">\n",
       "      <th></th>\n",
       "      <th>x</th>\n",
       "      <th>y</th>\n",
       "    </tr>\n",
       "  </thead>\n",
       "  <tbody>\n",
       "    <tr>\n",
       "      <th>0</th>\n",
       "      <td>0.10000</td>\n",
       "      <td>-0.0716</td>\n",
       "    </tr>\n",
       "    <tr>\n",
       "      <th>1</th>\n",
       "      <td>0.45401</td>\n",
       "      <td>4.1673</td>\n",
       "    </tr>\n",
       "    <tr>\n",
       "      <th>2</th>\n",
       "      <td>1.09765</td>\n",
       "      <td>6.5703</td>\n",
       "    </tr>\n",
       "    <tr>\n",
       "      <th>3</th>\n",
       "      <td>1.27936</td>\n",
       "      <td>13.8150</td>\n",
       "    </tr>\n",
       "    <tr>\n",
       "      <th>4</th>\n",
       "      <td>2.20611</td>\n",
       "      <td>11.4501</td>\n",
       "    </tr>\n",
       "  </tbody>\n",
       "</table>\n",
       "</div>"
      ],
      "text/plain": [
       "         x        y\n",
       "0  0.10000  -0.0716\n",
       "1  0.45401   4.1673\n",
       "2  1.09765   6.5703\n",
       "3  1.27936  13.8150\n",
       "4  2.20611  11.4501"
      ]
     },
     "execution_count": 3,
     "metadata": {},
     "output_type": "execute_result"
    }
   ],
   "source": [
    "df1 = pd.read_csv('/Users/mattcarey/Documents/UNCC/DTSC/My Notebooks DTSC 1302/Datasets/data01.csv')\n",
    "df1.head()"
   ]
  },
  {
   "cell_type": "code",
   "execution_count": 4,
   "id": "37e0cfb0-9265-430a-989d-cc883117ff41",
   "metadata": {},
   "outputs": [
    {
     "data": {
      "text/html": [
       "<div>\n",
       "<style scoped>\n",
       "    .dataframe tbody tr th:only-of-type {\n",
       "        vertical-align: middle;\n",
       "    }\n",
       "\n",
       "    .dataframe tbody tr th {\n",
       "        vertical-align: top;\n",
       "    }\n",
       "\n",
       "    .dataframe thead th {\n",
       "        text-align: right;\n",
       "    }\n",
       "</style>\n",
       "<table border=\"1\" class=\"dataframe\">\n",
       "  <thead>\n",
       "    <tr style=\"text-align: right;\">\n",
       "      <th></th>\n",
       "      <th>x</th>\n",
       "      <th>y</th>\n",
       "    </tr>\n",
       "  </thead>\n",
       "  <tbody>\n",
       "    <tr>\n",
       "      <th>0</th>\n",
       "      <td>0.10000</td>\n",
       "      <td>-0.0716</td>\n",
       "    </tr>\n",
       "    <tr>\n",
       "      <th>1</th>\n",
       "      <td>0.45401</td>\n",
       "      <td>4.1673</td>\n",
       "    </tr>\n",
       "    <tr>\n",
       "      <th>2</th>\n",
       "      <td>1.09765</td>\n",
       "      <td>6.5703</td>\n",
       "    </tr>\n",
       "    <tr>\n",
       "      <th>3</th>\n",
       "      <td>1.27936</td>\n",
       "      <td>13.8150</td>\n",
       "    </tr>\n",
       "    <tr>\n",
       "      <th>4</th>\n",
       "      <td>2.20611</td>\n",
       "      <td>11.4501</td>\n",
       "    </tr>\n",
       "  </tbody>\n",
       "</table>\n",
       "</div>"
      ],
      "text/plain": [
       "         x        y\n",
       "0  0.10000  -0.0716\n",
       "1  0.45401   4.1673\n",
       "2  1.09765   6.5703\n",
       "3  1.27936  13.8150\n",
       "4  2.20611  11.4501"
      ]
     },
     "execution_count": 4,
     "metadata": {},
     "output_type": "execute_result"
    }
   ],
   "source": [
    "df2 = pd.read_csv('/Users/mattcarey/Documents/UNCC/DTSC/My Notebooks DTSC 1302/Datasets/Data02.csv')\n",
    "df2.head()"
   ]
  },
  {
   "cell_type": "code",
   "execution_count": 5,
   "id": "3ab6b31b-14b0-449d-904b-20a28e702297",
   "metadata": {},
   "outputs": [
    {
     "data": {
      "text/html": [
       "<div>\n",
       "<style scoped>\n",
       "    .dataframe tbody tr th:only-of-type {\n",
       "        vertical-align: middle;\n",
       "    }\n",
       "\n",
       "    .dataframe tbody tr th {\n",
       "        vertical-align: top;\n",
       "    }\n",
       "\n",
       "    .dataframe thead th {\n",
       "        text-align: right;\n",
       "    }\n",
       "</style>\n",
       "<table border=\"1\" class=\"dataframe\">\n",
       "  <thead>\n",
       "    <tr style=\"text-align: right;\">\n",
       "      <th></th>\n",
       "      <th>x</th>\n",
       "      <th>y</th>\n",
       "    </tr>\n",
       "  </thead>\n",
       "  <tbody>\n",
       "    <tr>\n",
       "      <th>0</th>\n",
       "      <td>0.10000</td>\n",
       "      <td>-0.0716</td>\n",
       "    </tr>\n",
       "    <tr>\n",
       "      <th>1</th>\n",
       "      <td>0.45401</td>\n",
       "      <td>4.1673</td>\n",
       "    </tr>\n",
       "    <tr>\n",
       "      <th>2</th>\n",
       "      <td>1.09765</td>\n",
       "      <td>6.5703</td>\n",
       "    </tr>\n",
       "    <tr>\n",
       "      <th>3</th>\n",
       "      <td>1.27936</td>\n",
       "      <td>13.8150</td>\n",
       "    </tr>\n",
       "    <tr>\n",
       "      <th>4</th>\n",
       "      <td>2.20611</td>\n",
       "      <td>11.4501</td>\n",
       "    </tr>\n",
       "  </tbody>\n",
       "</table>\n",
       "</div>"
      ],
      "text/plain": [
       "         x        y\n",
       "0  0.10000  -0.0716\n",
       "1  0.45401   4.1673\n",
       "2  1.09765   6.5703\n",
       "3  1.27936  13.8150\n",
       "4  2.20611  11.4501"
      ]
     },
     "execution_count": 5,
     "metadata": {},
     "output_type": "execute_result"
    }
   ],
   "source": [
    "df3 = pd.read_csv('/Users/mattcarey/Documents/UNCC/DTSC/My Notebooks DTSC 1302/Datasets/Data03.csv')\n",
    "df3.head()"
   ]
  },
  {
   "cell_type": "code",
   "execution_count": 6,
   "id": "c73e64e3-5ae1-4a6f-9834-5736b2f10ef4",
   "metadata": {},
   "outputs": [
    {
     "data": {
      "text/html": [
       "<div>\n",
       "<style scoped>\n",
       "    .dataframe tbody tr th:only-of-type {\n",
       "        vertical-align: middle;\n",
       "    }\n",
       "\n",
       "    .dataframe tbody tr th {\n",
       "        vertical-align: top;\n",
       "    }\n",
       "\n",
       "    .dataframe thead th {\n",
       "        text-align: right;\n",
       "    }\n",
       "</style>\n",
       "<table border=\"1\" class=\"dataframe\">\n",
       "  <thead>\n",
       "    <tr style=\"text-align: right;\">\n",
       "      <th></th>\n",
       "      <th>x</th>\n",
       "      <th>y</th>\n",
       "    </tr>\n",
       "  </thead>\n",
       "  <tbody>\n",
       "    <tr>\n",
       "      <th>0</th>\n",
       "      <td>0.10000</td>\n",
       "      <td>-0.0716</td>\n",
       "    </tr>\n",
       "    <tr>\n",
       "      <th>1</th>\n",
       "      <td>0.45401</td>\n",
       "      <td>4.1673</td>\n",
       "    </tr>\n",
       "    <tr>\n",
       "      <th>2</th>\n",
       "      <td>1.09765</td>\n",
       "      <td>6.5703</td>\n",
       "    </tr>\n",
       "    <tr>\n",
       "      <th>3</th>\n",
       "      <td>1.27936</td>\n",
       "      <td>13.8150</td>\n",
       "    </tr>\n",
       "    <tr>\n",
       "      <th>4</th>\n",
       "      <td>2.20611</td>\n",
       "      <td>11.4501</td>\n",
       "    </tr>\n",
       "  </tbody>\n",
       "</table>\n",
       "</div>"
      ],
      "text/plain": [
       "         x        y\n",
       "0  0.10000  -0.0716\n",
       "1  0.45401   4.1673\n",
       "2  1.09765   6.5703\n",
       "3  1.27936  13.8150\n",
       "4  2.20611  11.4501"
      ]
     },
     "execution_count": 6,
     "metadata": {},
     "output_type": "execute_result"
    }
   ],
   "source": [
    "df4 = pd.read_csv('/Users/mattcarey/Documents/UNCC/DTSC/My Notebooks DTSC 1302/Datasets/Data04.csv')\n",
    "df4.head()"
   ]
  },
  {
   "cell_type": "markdown",
   "id": "c0a199dc-7a8d-473e-b6a0-7cdc17fc81c4",
   "metadata": {},
   "source": [
    "# Dataset 1"
   ]
  },
  {
   "cell_type": "code",
   "execution_count": 7,
   "id": "91af13e3-370b-474c-aa66-4d2cb258bbbb",
   "metadata": {},
   "outputs": [],
   "source": [
    "df1_model = smf.ols(formula = \"y ~ x\", data = df1)"
   ]
  },
  {
   "cell_type": "code",
   "execution_count": 8,
   "id": "f49b1d6c-d209-48f6-9658-02fd30be3419",
   "metadata": {},
   "outputs": [],
   "source": [
    "df1_results = df1_model.fit()"
   ]
  },
  {
   "cell_type": "code",
   "execution_count": 9,
   "id": "5ae1338b-8b52-4d41-8d8c-449892661f56",
   "metadata": {},
   "outputs": [
    {
     "data": {
      "text/html": [
       "<table class=\"simpletable\">\n",
       "<caption>OLS Regression Results</caption>\n",
       "<tr>\n",
       "  <th>Dep. Variable:</th>            <td>y</td>        <th>  R-squared:         </th> <td>   0.973</td>\n",
       "</tr>\n",
       "<tr>\n",
       "  <th>Model:</th>                   <td>OLS</td>       <th>  Adj. R-squared:    </th> <td>   0.972</td>\n",
       "</tr>\n",
       "<tr>\n",
       "  <th>Method:</th>             <td>Least Squares</td>  <th>  F-statistic:       </th> <td>   652.8</td>\n",
       "</tr>\n",
       "<tr>\n",
       "  <th>Date:</th>             <td>Wed, 29 Nov 2023</td> <th>  Prob (F-statistic):</th> <td>1.35e-15</td>\n",
       "</tr>\n",
       "<tr>\n",
       "  <th>Time:</th>                 <td>15:44:18</td>     <th>  Log-Likelihood:    </th> <td> -46.374</td>\n",
       "</tr>\n",
       "<tr>\n",
       "  <th>No. Observations:</th>      <td>    20</td>      <th>  AIC:               </th> <td>   96.75</td>\n",
       "</tr>\n",
       "<tr>\n",
       "  <th>Df Residuals:</th>          <td>    18</td>      <th>  BIC:               </th> <td>   98.74</td>\n",
       "</tr>\n",
       "<tr>\n",
       "  <th>Df Model:</th>              <td>     1</td>      <th>                     </th>     <td> </td>   \n",
       "</tr>\n",
       "<tr>\n",
       "  <th>Covariance Type:</th>      <td>nonrobust</td>    <th>                     </th>     <td> </td>   \n",
       "</tr>\n",
       "</table>\n",
       "<table class=\"simpletable\">\n",
       "<tr>\n",
       "      <td></td>         <th>coef</th>     <th>std err</th>      <th>t</th>      <th>P>|t|</th>  <th>[0.025</th>    <th>0.975]</th>  \n",
       "</tr>\n",
       "<tr>\n",
       "  <th>Intercept</th> <td>    1.7322</td> <td>    1.121</td> <td>    1.546</td> <td> 0.140</td> <td>   -0.622</td> <td>    4.086</td>\n",
       "</tr>\n",
       "<tr>\n",
       "  <th>x</th>         <td>    5.1169</td> <td>    0.200</td> <td>   25.551</td> <td> 0.000</td> <td>    4.696</td> <td>    5.538</td>\n",
       "</tr>\n",
       "</table>\n",
       "<table class=\"simpletable\">\n",
       "<tr>\n",
       "  <th>Omnibus:</th>       <td> 0.394</td> <th>  Durbin-Watson:     </th> <td>   2.066</td>\n",
       "</tr>\n",
       "<tr>\n",
       "  <th>Prob(Omnibus):</th> <td> 0.821</td> <th>  Jarque-Bera (JB):  </th> <td>   0.287</td>\n",
       "</tr>\n",
       "<tr>\n",
       "  <th>Skew:</th>          <td> 0.259</td> <th>  Prob(JB):          </th> <td>   0.866</td>\n",
       "</tr>\n",
       "<tr>\n",
       "  <th>Kurtosis:</th>      <td> 2.723</td> <th>  Cond. No.          </th> <td>    11.1</td>\n",
       "</tr>\n",
       "</table><br/><br/>Notes:<br/>[1] Standard Errors assume that the covariance matrix of the errors is correctly specified."
      ],
      "text/latex": [
       "\\begin{center}\n",
       "\\begin{tabular}{lclc}\n",
       "\\toprule\n",
       "\\textbf{Dep. Variable:}    &        y         & \\textbf{  R-squared:         } &     0.973   \\\\\n",
       "\\textbf{Model:}            &       OLS        & \\textbf{  Adj. R-squared:    } &     0.972   \\\\\n",
       "\\textbf{Method:}           &  Least Squares   & \\textbf{  F-statistic:       } &     652.8   \\\\\n",
       "\\textbf{Date:}             & Wed, 29 Nov 2023 & \\textbf{  Prob (F-statistic):} &  1.35e-15   \\\\\n",
       "\\textbf{Time:}             &     15:44:18     & \\textbf{  Log-Likelihood:    } &   -46.374   \\\\\n",
       "\\textbf{No. Observations:} &          20      & \\textbf{  AIC:               } &     96.75   \\\\\n",
       "\\textbf{Df Residuals:}     &          18      & \\textbf{  BIC:               } &     98.74   \\\\\n",
       "\\textbf{Df Model:}         &           1      & \\textbf{                     } &             \\\\\n",
       "\\textbf{Covariance Type:}  &    nonrobust     & \\textbf{                     } &             \\\\\n",
       "\\bottomrule\n",
       "\\end{tabular}\n",
       "\\begin{tabular}{lcccccc}\n",
       "                   & \\textbf{coef} & \\textbf{std err} & \\textbf{t} & \\textbf{P$> |$t$|$} & \\textbf{[0.025} & \\textbf{0.975]}  \\\\\n",
       "\\midrule\n",
       "\\textbf{Intercept} &       1.7322  &        1.121     &     1.546  &         0.140        &       -0.622    &        4.086     \\\\\n",
       "\\textbf{x}         &       5.1169  &        0.200     &    25.551  &         0.000        &        4.696    &        5.538     \\\\\n",
       "\\bottomrule\n",
       "\\end{tabular}\n",
       "\\begin{tabular}{lclc}\n",
       "\\textbf{Omnibus:}       &  0.394 & \\textbf{  Durbin-Watson:     } &    2.066  \\\\\n",
       "\\textbf{Prob(Omnibus):} &  0.821 & \\textbf{  Jarque-Bera (JB):  } &    0.287  \\\\\n",
       "\\textbf{Skew:}          &  0.259 & \\textbf{  Prob(JB):          } &    0.866  \\\\\n",
       "\\textbf{Kurtosis:}      &  2.723 & \\textbf{  Cond. No.          } &     11.1  \\\\\n",
       "\\bottomrule\n",
       "\\end{tabular}\n",
       "%\\caption{OLS Regression Results}\n",
       "\\end{center}\n",
       "\n",
       "Notes: \\newline\n",
       " [1] Standard Errors assume that the covariance matrix of the errors is correctly specified."
      ],
      "text/plain": [
       "<class 'statsmodels.iolib.summary.Summary'>\n",
       "\"\"\"\n",
       "                            OLS Regression Results                            \n",
       "==============================================================================\n",
       "Dep. Variable:                      y   R-squared:                       0.973\n",
       "Model:                            OLS   Adj. R-squared:                  0.972\n",
       "Method:                 Least Squares   F-statistic:                     652.8\n",
       "Date:                Wed, 29 Nov 2023   Prob (F-statistic):           1.35e-15\n",
       "Time:                        15:44:18   Log-Likelihood:                -46.374\n",
       "No. Observations:                  20   AIC:                             96.75\n",
       "Df Residuals:                      18   BIC:                             98.74\n",
       "Df Model:                           1                                         \n",
       "Covariance Type:            nonrobust                                         \n",
       "==============================================================================\n",
       "                 coef    std err          t      P>|t|      [0.025      0.975]\n",
       "------------------------------------------------------------------------------\n",
       "Intercept      1.7322      1.121      1.546      0.140      -0.622       4.086\n",
       "x              5.1169      0.200     25.551      0.000       4.696       5.538\n",
       "==============================================================================\n",
       "Omnibus:                        0.394   Durbin-Watson:                   2.066\n",
       "Prob(Omnibus):                  0.821   Jarque-Bera (JB):                0.287\n",
       "Skew:                           0.259   Prob(JB):                        0.866\n",
       "Kurtosis:                       2.723   Cond. No.                         11.1\n",
       "==============================================================================\n",
       "\n",
       "Notes:\n",
       "[1] Standard Errors assume that the covariance matrix of the errors is correctly specified.\n",
       "\"\"\""
      ]
     },
     "execution_count": 9,
     "metadata": {},
     "output_type": "execute_result"
    }
   ],
   "source": [
    "df1_results.summary()"
   ]
  },
  {
   "cell_type": "code",
   "execution_count": 10,
   "id": "bd03a12b-1c18-4186-b5c4-9806856c760a",
   "metadata": {},
   "outputs": [
    {
     "data": {
      "image/png": "[encoded data removed]",
      "text/plain": [
       "<Figure size 500x500 with 1 Axes>"
      ]
     },
     "metadata": {},
     "output_type": "display_data"
    }
   ],
   "source": [
    "plt.figure(figsize=(5, 5))\n",
    "sns.scatterplot(data = df1, x=\"x\", y=\"y\")\n",
    "plt.show()"
   ]
  },
  {
   "cell_type": "code",
   "execution_count": 11,
   "id": "c815561b-a37f-4a2d-83a5-3615296c3a52",
   "metadata": {},
   "outputs": [
    {
     "data": {
      "text/plain": [
       "<Axes: xlabel='x', ylabel='y'>"
      ]
     },
     "execution_count": 11,
     "metadata": {},
     "output_type": "execute_result"
    },
    {
     "data": {
      "image/png": "[encoded data removed]",
      "text/plain": [
       "<Figure size 640x480 with 1 Axes>"
      ]
     },
     "metadata": {},
     "output_type": "display_data"
    }
   ],
   "source": [
    "sns.regplot(x = 'x', y = 'y', data = df1)"
   ]
  },
  {
   "cell_type": "markdown",
   "id": "fbcf2345-a072-459f-b874-b1e8e687af3a",
   "metadata": {},
   "source": [
    "## Conclusion"
   ]
  },
  {
   "cell_type": "markdown",
   "id": "5f73d6e2-46f2-4af6-87bd-de24c0a41174",
   "metadata": {},
   "source": [
    "Dataset 1 does not contain any influential points."
   ]
  },
  {
   "cell_type": "markdown",
   "id": "053632d2-7ae3-4ce9-9008-d1159d3b3c1e",
   "metadata": {},
   "source": [
    "# Dataset 2"
   ]
  },
  {
   "cell_type": "code",
   "execution_count": 12,
   "id": "f61eaec7-62f5-4cff-b1b4-49e3c685843b",
   "metadata": {},
   "outputs": [],
   "source": [
    "df2_model = smf.ols(formula = \"y ~ x\", data = df2)\n",
    "df2_results = df2_model.fit()"
   ]
  },
  {
   "cell_type": "code",
   "execution_count": 13,
   "id": "4d4d5cea-d857-4990-b8fd-5e545f41d231",
   "metadata": {},
   "outputs": [
    {
     "data": {
      "text/html": [
       "<table class=\"simpletable\">\n",
       "<caption>OLS Regression Results</caption>\n",
       "<tr>\n",
       "  <th>Dep. Variable:</th>            <td>y</td>        <th>  R-squared:         </th> <td>   0.910</td>\n",
       "</tr>\n",
       "<tr>\n",
       "  <th>Model:</th>                   <td>OLS</td>       <th>  Adj. R-squared:    </th> <td>   0.905</td>\n",
       "</tr>\n",
       "<tr>\n",
       "  <th>Method:</th>             <td>Least Squares</td>  <th>  F-statistic:       </th> <td>   192.2</td>\n",
       "</tr>\n",
       "<tr>\n",
       "  <th>Date:</th>             <td>Wed, 29 Nov 2023</td> <th>  Prob (F-statistic):</th> <td>2.18e-11</td>\n",
       "</tr>\n",
       "<tr>\n",
       "  <th>Time:</th>                 <td>15:44:19</td>     <th>  Log-Likelihood:    </th> <td> -61.294</td>\n",
       "</tr>\n",
       "<tr>\n",
       "  <th>No. Observations:</th>      <td>    21</td>      <th>  AIC:               </th> <td>   126.6</td>\n",
       "</tr>\n",
       "<tr>\n",
       "  <th>Df Residuals:</th>          <td>    19</td>      <th>  BIC:               </th> <td>   128.7</td>\n",
       "</tr>\n",
       "<tr>\n",
       "  <th>Df Model:</th>              <td>     1</td>      <th>                     </th>     <td> </td>   \n",
       "</tr>\n",
       "<tr>\n",
       "  <th>Covariance Type:</th>      <td>nonrobust</td>    <th>                     </th>     <td> </td>   \n",
       "</tr>\n",
       "</table>\n",
       "<table class=\"simpletable\">\n",
       "<tr>\n",
       "      <td></td>         <th>coef</th>     <th>std err</th>      <th>t</th>      <th>P>|t|</th>  <th>[0.025</th>    <th>0.975]</th>  \n",
       "</tr>\n",
       "<tr>\n",
       "  <th>Intercept</th> <td>    2.9576</td> <td>    2.009</td> <td>    1.472</td> <td> 0.157</td> <td>   -1.247</td> <td>    7.163</td>\n",
       "</tr>\n",
       "<tr>\n",
       "  <th>x</th>         <td>    5.0373</td> <td>    0.363</td> <td>   13.865</td> <td> 0.000</td> <td>    4.277</td> <td>    5.798</td>\n",
       "</tr>\n",
       "</table>\n",
       "<table class=\"simpletable\">\n",
       "<tr>\n",
       "  <th>Omnibus:</th>       <td>30.102</td> <th>  Durbin-Watson:     </th> <td>   1.564</td>\n",
       "</tr>\n",
       "<tr>\n",
       "  <th>Prob(Omnibus):</th> <td> 0.000</td> <th>  Jarque-Bera (JB):  </th> <td>  61.821</td>\n",
       "</tr>\n",
       "<tr>\n",
       "  <th>Skew:</th>          <td> 2.424</td> <th>  Prob(JB):          </th> <td>3.76e-14</td>\n",
       "</tr>\n",
       "<tr>\n",
       "  <th>Kurtosis:</th>      <td> 9.866</td> <th>  Cond. No.          </th> <td>    11.1</td>\n",
       "</tr>\n",
       "</table><br/><br/>Notes:<br/>[1] Standard Errors assume that the covariance matrix of the errors is correctly specified."
      ],
      "text/latex": [
       "\\begin{center}\n",
       "\\begin{tabular}{lclc}\n",
       "\\toprule\n",
       "\\textbf{Dep. Variable:}    &        y         & \\textbf{  R-squared:         } &     0.910   \\\\\n",
       "\\textbf{Model:}            &       OLS        & \\textbf{  Adj. R-squared:    } &     0.905   \\\\\n",
       "\\textbf{Method:}           &  Least Squares   & \\textbf{  F-statistic:       } &     192.2   \\\\\n",
       "\\textbf{Date:}             & Wed, 29 Nov 2023 & \\textbf{  Prob (F-statistic):} &  2.18e-11   \\\\\n",
       "\\textbf{Time:}             &     15:44:19     & \\textbf{  Log-Likelihood:    } &   -61.294   \\\\\n",
       "\\textbf{No. Observations:} &          21      & \\textbf{  AIC:               } &     126.6   \\\\\n",
       "\\textbf{Df Residuals:}     &          19      & \\textbf{  BIC:               } &     128.7   \\\\\n",
       "\\textbf{Df Model:}         &           1      & \\textbf{                     } &             \\\\\n",
       "\\textbf{Covariance Type:}  &    nonrobust     & \\textbf{                     } &             \\\\\n",
       "\\bottomrule\n",
       "\\end{tabular}\n",
       "\\begin{tabular}{lcccccc}\n",
       "                   & \\textbf{coef} & \\textbf{std err} & \\textbf{t} & \\textbf{P$> |$t$|$} & \\textbf{[0.025} & \\textbf{0.975]}  \\\\\n",
       "\\midrule\n",
       "\\textbf{Intercept} &       2.9576  &        2.009     &     1.472  &         0.157        &       -1.247    &        7.163     \\\\\n",
       "\\textbf{x}         &       5.0373  &        0.363     &    13.865  &         0.000        &        4.277    &        5.798     \\\\\n",
       "\\bottomrule\n",
       "\\end{tabular}\n",
       "\\begin{tabular}{lclc}\n",
       "\\textbf{Omnibus:}       & 30.102 & \\textbf{  Durbin-Watson:     } &    1.564  \\\\\n",
       "\\textbf{Prob(Omnibus):} &  0.000 & \\textbf{  Jarque-Bera (JB):  } &   61.821  \\\\\n",
       "\\textbf{Skew:}          &  2.424 & \\textbf{  Prob(JB):          } & 3.76e-14  \\\\\n",
       "\\textbf{Kurtosis:}      &  9.866 & \\textbf{  Cond. No.          } &     11.1  \\\\\n",
       "\\bottomrule\n",
       "\\end{tabular}\n",
       "%\\caption{OLS Regression Results}\n",
       "\\end{center}\n",
       "\n",
       "Notes: \\newline\n",
       " [1] Standard Errors assume that the covariance matrix of the errors is correctly specified."
      ],
      "text/plain": [
       "<class 'statsmodels.iolib.summary.Summary'>\n",
       "\"\"\"\n",
       "                            OLS Regression Results                            \n",
       "==============================================================================\n",
       "Dep. Variable:                      y   R-squared:                       0.910\n",
       "Model:                            OLS   Adj. R-squared:                  0.905\n",
       "Method:                 Least Squares   F-statistic:                     192.2\n",
       "Date:                Wed, 29 Nov 2023   Prob (F-statistic):           2.18e-11\n",
       "Time:                        15:44:19   Log-Likelihood:                -61.294\n",
       "No. Observations:                  21   AIC:                             126.6\n",
       "Df Residuals:                      19   BIC:                             128.7\n",
       "Df Model:                           1                                         \n",
       "Covariance Type:            nonrobust                                         \n",
       "==============================================================================\n",
       "                 coef    std err          t      P>|t|      [0.025      0.975]\n",
       "------------------------------------------------------------------------------\n",
       "Intercept      2.9576      2.009      1.472      0.157      -1.247       7.163\n",
       "x              5.0373      0.363     13.865      0.000       4.277       5.798\n",
       "==============================================================================\n",
       "Omnibus:                       30.102   Durbin-Watson:                   1.564\n",
       "Prob(Omnibus):                  0.000   Jarque-Bera (JB):               61.821\n",
       "Skew:                           2.424   Prob(JB):                     3.76e-14\n",
       "Kurtosis:                       9.866   Cond. No.                         11.1\n",
       "==============================================================================\n",
       "\n",
       "Notes:\n",
       "[1] Standard Errors assume that the covariance matrix of the errors is correctly specified.\n",
       "\"\"\""
      ]
     },
     "execution_count": 13,
     "metadata": {},
     "output_type": "execute_result"
    }
   ],
   "source": [
    "df2_results.summary()"
   ]
  },
  {
   "cell_type": "code",
   "execution_count": 14,
   "id": "54a8c4e8-bec3-48b8-bd1c-a0175ea750b7",
   "metadata": {},
   "outputs": [
    {
     "data": {
      "text/plain": [
       "<Axes: xlabel='x', ylabel='y'>"
      ]
     },
     "execution_count": 14,
     "metadata": {},
     "output_type": "execute_result"
    },
    {
     "data": {
      "image/png": "[encoded data removed]",
      "text/plain": [
       "<Figure size 640x480 with 1 Axes>"
      ]
     },
     "metadata": {},
     "output_type": "display_data"
    }
   ],
   "source": [
    "sns.regplot(x = 'x', y = 'y', data = df2)"
   ]
  },
  {
   "cell_type": "code",
   "execution_count": 15,
   "id": "8fcf0834-4b37-4b17-af96-eeb25cf93280",
   "metadata": {},
   "outputs": [],
   "source": [
    "df2_revised = df2.iloc[0:20]"
   ]
  },
  {
   "cell_type": "code",
   "execution_count": 16,
   "id": "5680f44b-7244-4a02-a99e-30fc2d239314",
   "metadata": {},
   "outputs": [
    {
     "data": {
      "text/plain": [
       "<Axes: xlabel='x', ylabel='y'>"
      ]
     },
     "execution_count": 16,
     "metadata": {},
     "output_type": "execute_result"
    },
    {
     "data": {
      "image/png": "[encoded data removed]",
      "text/plain": [
       "<Figure size 640x480 with 1 Axes>"
      ]
     },
     "metadata": {},
     "output_type": "display_data"
    }
   ],
   "source": [
    "sns.regplot(x = 'x', y = 'y', data = df2_revised)"
   ]
  },
  {
   "cell_type": "code",
   "execution_count": 17,
   "id": "bfe0ef63-67c3-4b16-990f-898b0092580f",
   "metadata": {},
   "outputs": [],
   "source": [
    "df2_revised_model = smf.ols(formula = \"y ~ x\", data = df2_revised)\n",
    "df2_revised_results = df2_revised_model.fit()"
   ]
  },
  {
   "cell_type": "code",
   "execution_count": 18,
   "id": "3db26391-abdf-4c70-82ed-4007379a3aaa",
   "metadata": {},
   "outputs": [
    {
     "data": {
      "text/html": [
       "<table class=\"simpletable\">\n",
       "<caption>OLS Regression Results</caption>\n",
       "<tr>\n",
       "  <th>Dep. Variable:</th>            <td>y</td>        <th>  R-squared:         </th> <td>   0.973</td>\n",
       "</tr>\n",
       "<tr>\n",
       "  <th>Model:</th>                   <td>OLS</td>       <th>  Adj. R-squared:    </th> <td>   0.972</td>\n",
       "</tr>\n",
       "<tr>\n",
       "  <th>Method:</th>             <td>Least Squares</td>  <th>  F-statistic:       </th> <td>   652.8</td>\n",
       "</tr>\n",
       "<tr>\n",
       "  <th>Date:</th>             <td>Wed, 29 Nov 2023</td> <th>  Prob (F-statistic):</th> <td>1.35e-15</td>\n",
       "</tr>\n",
       "<tr>\n",
       "  <th>Time:</th>                 <td>15:44:19</td>     <th>  Log-Likelihood:    </th> <td> -46.374</td>\n",
       "</tr>\n",
       "<tr>\n",
       "  <th>No. Observations:</th>      <td>    20</td>      <th>  AIC:               </th> <td>   96.75</td>\n",
       "</tr>\n",
       "<tr>\n",
       "  <th>Df Residuals:</th>          <td>    18</td>      <th>  BIC:               </th> <td>   98.74</td>\n",
       "</tr>\n",
       "<tr>\n",
       "  <th>Df Model:</th>              <td>     1</td>      <th>                     </th>     <td> </td>   \n",
       "</tr>\n",
       "<tr>\n",
       "  <th>Covariance Type:</th>      <td>nonrobust</td>    <th>                     </th>     <td> </td>   \n",
       "</tr>\n",
       "</table>\n",
       "<table class=\"simpletable\">\n",
       "<tr>\n",
       "      <td></td>         <th>coef</th>     <th>std err</th>      <th>t</th>      <th>P>|t|</th>  <th>[0.025</th>    <th>0.975]</th>  \n",
       "</tr>\n",
       "<tr>\n",
       "  <th>Intercept</th> <td>    1.7322</td> <td>    1.121</td> <td>    1.546</td> <td> 0.140</td> <td>   -0.622</td> <td>    4.086</td>\n",
       "</tr>\n",
       "<tr>\n",
       "  <th>x</th>         <td>    5.1169</td> <td>    0.200</td> <td>   25.551</td> <td> 0.000</td> <td>    4.696</td> <td>    5.538</td>\n",
       "</tr>\n",
       "</table>\n",
       "<table class=\"simpletable\">\n",
       "<tr>\n",
       "  <th>Omnibus:</th>       <td> 0.394</td> <th>  Durbin-Watson:     </th> <td>   2.066</td>\n",
       "</tr>\n",
       "<tr>\n",
       "  <th>Prob(Omnibus):</th> <td> 0.821</td> <th>  Jarque-Bera (JB):  </th> <td>   0.287</td>\n",
       "</tr>\n",
       "<tr>\n",
       "  <th>Skew:</th>          <td> 0.259</td> <th>  Prob(JB):          </th> <td>   0.866</td>\n",
       "</tr>\n",
       "<tr>\n",
       "  <th>Kurtosis:</th>      <td> 2.723</td> <th>  Cond. No.          </th> <td>    11.1</td>\n",
       "</tr>\n",
       "</table><br/><br/>Notes:<br/>[1] Standard Errors assume that the covariance matrix of the errors is correctly specified."
      ],
      "text/latex": [
       "\\begin{center}\n",
       "\\begin{tabular}{lclc}\n",
       "\\toprule\n",
       "\\textbf{Dep. Variable:}    &        y         & \\textbf{  R-squared:         } &     0.973   \\\\\n",
       "\\textbf{Model:}            &       OLS        & \\textbf{  Adj. R-squared:    } &     0.972   \\\\\n",
       "\\textbf{Method:}           &  Least Squares   & \\textbf{  F-statistic:       } &     652.8   \\\\\n",
       "\\textbf{Date:}             & Wed, 29 Nov 2023 & \\textbf{  Prob (F-statistic):} &  1.35e-15   \\\\\n",
       "\\textbf{Time:}             &     15:44:19     & \\textbf{  Log-Likelihood:    } &   -46.374   \\\\\n",
       "\\textbf{No. Observations:} &          20      & \\textbf{  AIC:               } &     96.75   \\\\\n",
       "\\textbf{Df Residuals:}     &          18      & \\textbf{  BIC:               } &     98.74   \\\\\n",
       "\\textbf{Df Model:}         &           1      & \\textbf{                     } &             \\\\\n",
       "\\textbf{Covariance Type:}  &    nonrobust     & \\textbf{                     } &             \\\\\n",
       "\\bottomrule\n",
       "\\end{tabular}\n",
       "\\begin{tabular}{lcccccc}\n",
       "                   & \\textbf{coef} & \\textbf{std err} & \\textbf{t} & \\textbf{P$> |$t$|$} & \\textbf{[0.025} & \\textbf{0.975]}  \\\\\n",
       "\\midrule\n",
       "\\textbf{Intercept} &       1.7322  &        1.121     &     1.546  &         0.140        &       -0.622    &        4.086     \\\\\n",
       "\\textbf{x}         &       5.1169  &        0.200     &    25.551  &         0.000        &        4.696    &        5.538     \\\\\n",
       "\\bottomrule\n",
       "\\end{tabular}\n",
       "\\begin{tabular}{lclc}\n",
       "\\textbf{Omnibus:}       &  0.394 & \\textbf{  Durbin-Watson:     } &    2.066  \\\\\n",
       "\\textbf{Prob(Omnibus):} &  0.821 & \\textbf{  Jarque-Bera (JB):  } &    0.287  \\\\\n",
       "\\textbf{Skew:}          &  0.259 & \\textbf{  Prob(JB):          } &    0.866  \\\\\n",
       "\\textbf{Kurtosis:}      &  2.723 & \\textbf{  Cond. No.          } &     11.1  \\\\\n",
       "\\bottomrule\n",
       "\\end{tabular}\n",
       "%\\caption{OLS Regression Results}\n",
       "\\end{center}\n",
       "\n",
       "Notes: \\newline\n",
       " [1] Standard Errors assume that the covariance matrix of the errors is correctly specified."
      ],
      "text/plain": [
       "<class 'statsmodels.iolib.summary.Summary'>\n",
       "\"\"\"\n",
       "                            OLS Regression Results                            \n",
       "==============================================================================\n",
       "Dep. Variable:                      y   R-squared:                       0.973\n",
       "Model:                            OLS   Adj. R-squared:                  0.972\n",
       "Method:                 Least Squares   F-statistic:                     652.8\n",
       "Date:                Wed, 29 Nov 2023   Prob (F-statistic):           1.35e-15\n",
       "Time:                        15:44:19   Log-Likelihood:                -46.374\n",
       "No. Observations:                  20   AIC:                             96.75\n",
       "Df Residuals:                      18   BIC:                             98.74\n",
       "Df Model:                           1                                         \n",
       "Covariance Type:            nonrobust                                         \n",
       "==============================================================================\n",
       "                 coef    std err          t      P>|t|      [0.025      0.975]\n",
       "------------------------------------------------------------------------------\n",
       "Intercept      1.7322      1.121      1.546      0.140      -0.622       4.086\n",
       "x              5.1169      0.200     25.551      0.000       4.696       5.538\n",
       "==============================================================================\n",
       "Omnibus:                        0.394   Durbin-Watson:                   2.066\n",
       "Prob(Omnibus):                  0.821   Jarque-Bera (JB):                0.287\n",
       "Skew:                           0.259   Prob(JB):                        0.866\n",
       "Kurtosis:                       2.723   Cond. No.                         11.1\n",
       "==============================================================================\n",
       "\n",
       "Notes:\n",
       "[1] Standard Errors assume that the covariance matrix of the errors is correctly specified.\n",
       "\"\"\""
      ]
     },
     "execution_count": 18,
     "metadata": {},
     "output_type": "execute_result"
    }
   ],
   "source": [
    "df2_revised_results.summary()"
   ]
  },
  {
   "cell_type": "markdown",
   "id": "25619dba-404f-496d-96f0-97b3d7781e5d",
   "metadata": {},
   "source": [
    "## Conclusion"
   ]
  },
  {
   "cell_type": "markdown",
   "id": "c67b2175-b499-4fb3-b35a-725157616294",
   "metadata": {},
   "source": [
    "Removing the data point that appears to potentially be influential does not impact r^2 or the intercept and x coefficient enough to be considered influential."
   ]
  },
  {
   "cell_type": "markdown",
   "id": "63c03bb6-2f51-4b5d-8f8e-10ddda993c57",
   "metadata": {},
   "source": [
    "# Dataframe 3"
   ]
  },
  {
   "cell_type": "code",
   "execution_count": 19,
   "id": "ee32c49c-f560-46da-8034-5997d2ca0088",
   "metadata": {},
   "outputs": [],
   "source": [
    "df3_model = smf.ols(formula = \"y ~ x\", data = df3)\n",
    "df3_results = df3_model.fit()"
   ]
  },
  {
   "cell_type": "code",
   "execution_count": 20,
   "id": "63a16106-5ed8-48cd-9faa-5efc2f7cc7ba",
   "metadata": {},
   "outputs": [
    {
     "data": {
      "text/html": [
       "<table class=\"simpletable\">\n",
       "<caption>OLS Regression Results</caption>\n",
       "<tr>\n",
       "  <th>Dep. Variable:</th>            <td>y</td>        <th>  R-squared:         </th> <td>   0.977</td>\n",
       "</tr>\n",
       "<tr>\n",
       "  <th>Model:</th>                   <td>OLS</td>       <th>  Adj. R-squared:    </th> <td>   0.976</td>\n",
       "</tr>\n",
       "<tr>\n",
       "  <th>Method:</th>             <td>Least Squares</td>  <th>  F-statistic:       </th> <td>   821.4</td>\n",
       "</tr>\n",
       "<tr>\n",
       "  <th>Date:</th>             <td>Wed, 29 Nov 2023</td> <th>  Prob (F-statistic):</th> <td>4.23e-17</td>\n",
       "</tr>\n",
       "<tr>\n",
       "  <th>Time:</th>                 <td>15:44:19</td>     <th>  Log-Likelihood:    </th> <td> -49.676</td>\n",
       "</tr>\n",
       "<tr>\n",
       "  <th>No. Observations:</th>      <td>    21</td>      <th>  AIC:               </th> <td>   103.4</td>\n",
       "</tr>\n",
       "<tr>\n",
       "  <th>Df Residuals:</th>          <td>    19</td>      <th>  BIC:               </th> <td>   105.4</td>\n",
       "</tr>\n",
       "<tr>\n",
       "  <th>Df Model:</th>              <td>     1</td>      <th>                     </th>     <td> </td>   \n",
       "</tr>\n",
       "<tr>\n",
       "  <th>Covariance Type:</th>      <td>nonrobust</td>    <th>                     </th>     <td> </td>   \n",
       "</tr>\n",
       "</table>\n",
       "<table class=\"simpletable\">\n",
       "<tr>\n",
       "      <td></td>         <th>coef</th>     <th>std err</th>      <th>t</th>      <th>P>|t|</th>  <th>[0.025</th>    <th>0.975]</th>  \n",
       "</tr>\n",
       "<tr>\n",
       "  <th>Intercept</th> <td>    2.4679</td> <td>    1.076</td> <td>    2.294</td> <td> 0.033</td> <td>    0.216</td> <td>    4.719</td>\n",
       "</tr>\n",
       "<tr>\n",
       "  <th>x</th>         <td>    4.9272</td> <td>    0.172</td> <td>   28.661</td> <td> 0.000</td> <td>    4.567</td> <td>    5.287</td>\n",
       "</tr>\n",
       "</table>\n",
       "<table class=\"simpletable\">\n",
       "<tr>\n",
       "  <th>Omnibus:</th>       <td> 1.266</td> <th>  Durbin-Watson:     </th> <td>   1.807</td>\n",
       "</tr>\n",
       "<tr>\n",
       "  <th>Prob(Omnibus):</th> <td> 0.531</td> <th>  Jarque-Bera (JB):  </th> <td>   1.018</td>\n",
       "</tr>\n",
       "<tr>\n",
       "  <th>Skew:</th>          <td> 0.310</td> <th>  Prob(JB):          </th> <td>   0.601</td>\n",
       "</tr>\n",
       "<tr>\n",
       "  <th>Kurtosis:</th>      <td> 2.117</td> <th>  Cond. No.          </th> <td>    11.6</td>\n",
       "</tr>\n",
       "</table><br/><br/>Notes:<br/>[1] Standard Errors assume that the covariance matrix of the errors is correctly specified."
      ],
      "text/latex": [
       "\\begin{center}\n",
       "\\begin{tabular}{lclc}\n",
       "\\toprule\n",
       "\\textbf{Dep. Variable:}    &        y         & \\textbf{  R-squared:         } &     0.977   \\\\\n",
       "\\textbf{Model:}            &       OLS        & \\textbf{  Adj. R-squared:    } &     0.976   \\\\\n",
       "\\textbf{Method:}           &  Least Squares   & \\textbf{  F-statistic:       } &     821.4   \\\\\n",
       "\\textbf{Date:}             & Wed, 29 Nov 2023 & \\textbf{  Prob (F-statistic):} &  4.23e-17   \\\\\n",
       "\\textbf{Time:}             &     15:44:19     & \\textbf{  Log-Likelihood:    } &   -49.676   \\\\\n",
       "\\textbf{No. Observations:} &          21      & \\textbf{  AIC:               } &     103.4   \\\\\n",
       "\\textbf{Df Residuals:}     &          19      & \\textbf{  BIC:               } &     105.4   \\\\\n",
       "\\textbf{Df Model:}         &           1      & \\textbf{                     } &             \\\\\n",
       "\\textbf{Covariance Type:}  &    nonrobust     & \\textbf{                     } &             \\\\\n",
       "\\bottomrule\n",
       "\\end{tabular}\n",
       "\\begin{tabular}{lcccccc}\n",
       "                   & \\textbf{coef} & \\textbf{std err} & \\textbf{t} & \\textbf{P$> |$t$|$} & \\textbf{[0.025} & \\textbf{0.975]}  \\\\\n",
       "\\midrule\n",
       "\\textbf{Intercept} &       2.4679  &        1.076     &     2.294  &         0.033        &        0.216    &        4.719     \\\\\n",
       "\\textbf{x}         &       4.9272  &        0.172     &    28.661  &         0.000        &        4.567    &        5.287     \\\\\n",
       "\\bottomrule\n",
       "\\end{tabular}\n",
       "\\begin{tabular}{lclc}\n",
       "\\textbf{Omnibus:}       &  1.266 & \\textbf{  Durbin-Watson:     } &    1.807  \\\\\n",
       "\\textbf{Prob(Omnibus):} &  0.531 & \\textbf{  Jarque-Bera (JB):  } &    1.018  \\\\\n",
       "\\textbf{Skew:}          &  0.310 & \\textbf{  Prob(JB):          } &    0.601  \\\\\n",
       "\\textbf{Kurtosis:}      &  2.117 & \\textbf{  Cond. No.          } &     11.6  \\\\\n",
       "\\bottomrule\n",
       "\\end{tabular}\n",
       "%\\caption{OLS Regression Results}\n",
       "\\end{center}\n",
       "\n",
       "Notes: \\newline\n",
       " [1] Standard Errors assume that the covariance matrix of the errors is correctly specified."
      ],
      "text/plain": [
       "<class 'statsmodels.iolib.summary.Summary'>\n",
       "\"\"\"\n",
       "                            OLS Regression Results                            \n",
       "==============================================================================\n",
       "Dep. Variable:                      y   R-squared:                       0.977\n",
       "Model:                            OLS   Adj. R-squared:                  0.976\n",
       "Method:                 Least Squares   F-statistic:                     821.4\n",
       "Date:                Wed, 29 Nov 2023   Prob (F-statistic):           4.23e-17\n",
       "Time:                        15:44:19   Log-Likelihood:                -49.676\n",
       "No. Observations:                  21   AIC:                             103.4\n",
       "Df Residuals:                      19   BIC:                             105.4\n",
       "Df Model:                           1                                         \n",
       "Covariance Type:            nonrobust                                         \n",
       "==============================================================================\n",
       "                 coef    std err          t      P>|t|      [0.025      0.975]\n",
       "------------------------------------------------------------------------------\n",
       "Intercept      2.4679      1.076      2.294      0.033       0.216       4.719\n",
       "x              4.9272      0.172     28.661      0.000       4.567       5.287\n",
       "==============================================================================\n",
       "Omnibus:                        1.266   Durbin-Watson:                   1.807\n",
       "Prob(Omnibus):                  0.531   Jarque-Bera (JB):                1.018\n",
       "Skew:                           0.310   Prob(JB):                        0.601\n",
       "Kurtosis:                       2.117   Cond. No.                         11.6\n",
       "==============================================================================\n",
       "\n",
       "Notes:\n",
       "[1] Standard Errors assume that the covariance matrix of the errors is correctly specified.\n",
       "\"\"\""
      ]
     },
     "execution_count": 20,
     "metadata": {},
     "output_type": "execute_result"
    }
   ],
   "source": [
    "df3_results.summary()"
   ]
  },
  {
   "cell_type": "code",
   "execution_count": 22,
   "id": "b2727fa8-d75a-4cd5-ac83-282afc0524e6",
   "metadata": {},
   "outputs": [
    {
     "data": {
      "text/plain": [
       "<Axes: xlabel='x', ylabel='y'>"
      ]
     },
     "execution_count": 22,
     "metadata": {},
     "output_type": "execute_result"
    },
    {
     "data": {
      "image/png": "[encoded data removed]",
      "text/plain": [
       "<Figure size 640x480 with 1 Axes>"
      ]
     },
     "metadata": {},
     "output_type": "display_data"
    }
   ],
   "source": [
    "sns.regplot( x = 'x', y = 'y', data = df3)"
   ]
  },
  {
   "cell_type": "code",
   "execution_count": 23,
   "id": "d03a053b-af9c-48cf-ace4-038766abe837",
   "metadata": {},
   "outputs": [],
   "source": [
    "df3_revised = df3.iloc[0:20]"
   ]
  },
  {
   "cell_type": "code",
   "execution_count": 31,
   "id": "83313903-9ebd-47e1-aabd-05c29f5ecd78",
   "metadata": {},
   "outputs": [
    {
     "data": {
      "text/plain": [
       "<Axes: xlabel='x', ylabel='y'>"
      ]
     },
     "execution_count": 31,
     "metadata": {},
     "output_type": "execute_result"
    },
    {
     "data": {
      "image/png": "[encoded data removed]",
      "text/plain": [
       "<Figure size 640x480 with 1 Axes>"
      ]
     },
     "metadata": {},
     "output_type": "display_data"
    }
   ],
   "source": [
    "sns.regplot(x = 'x', y = 'y', data = df3_revised)"
   ]
  },
  {
   "cell_type": "code",
   "execution_count": 24,
   "id": "82bdb004-eca7-4eac-ab0c-063ede3d6a72",
   "metadata": {},
   "outputs": [
    {
     "data": {
      "text/html": [
       "<table class=\"simpletable\">\n",
       "<caption>OLS Regression Results</caption>\n",
       "<tr>\n",
       "  <th>Dep. Variable:</th>            <td>y</td>        <th>  R-squared:         </th> <td>   0.973</td>\n",
       "</tr>\n",
       "<tr>\n",
       "  <th>Model:</th>                   <td>OLS</td>       <th>  Adj. R-squared:    </th> <td>   0.972</td>\n",
       "</tr>\n",
       "<tr>\n",
       "  <th>Method:</th>             <td>Least Squares</td>  <th>  F-statistic:       </th> <td>   652.8</td>\n",
       "</tr>\n",
       "<tr>\n",
       "  <th>Date:</th>             <td>Wed, 29 Nov 2023</td> <th>  Prob (F-statistic):</th> <td>1.35e-15</td>\n",
       "</tr>\n",
       "<tr>\n",
       "  <th>Time:</th>                 <td>15:44:20</td>     <th>  Log-Likelihood:    </th> <td> -46.374</td>\n",
       "</tr>\n",
       "<tr>\n",
       "  <th>No. Observations:</th>      <td>    20</td>      <th>  AIC:               </th> <td>   96.75</td>\n",
       "</tr>\n",
       "<tr>\n",
       "  <th>Df Residuals:</th>          <td>    18</td>      <th>  BIC:               </th> <td>   98.74</td>\n",
       "</tr>\n",
       "<tr>\n",
       "  <th>Df Model:</th>              <td>     1</td>      <th>                     </th>     <td> </td>   \n",
       "</tr>\n",
       "<tr>\n",
       "  <th>Covariance Type:</th>      <td>nonrobust</td>    <th>                     </th>     <td> </td>   \n",
       "</tr>\n",
       "</table>\n",
       "<table class=\"simpletable\">\n",
       "<tr>\n",
       "      <td></td>         <th>coef</th>     <th>std err</th>      <th>t</th>      <th>P>|t|</th>  <th>[0.025</th>    <th>0.975]</th>  \n",
       "</tr>\n",
       "<tr>\n",
       "  <th>Intercept</th> <td>    1.7322</td> <td>    1.121</td> <td>    1.546</td> <td> 0.140</td> <td>   -0.622</td> <td>    4.086</td>\n",
       "</tr>\n",
       "<tr>\n",
       "  <th>x</th>         <td>    5.1169</td> <td>    0.200</td> <td>   25.551</td> <td> 0.000</td> <td>    4.696</td> <td>    5.538</td>\n",
       "</tr>\n",
       "</table>\n",
       "<table class=\"simpletable\">\n",
       "<tr>\n",
       "  <th>Omnibus:</th>       <td> 0.394</td> <th>  Durbin-Watson:     </th> <td>   2.066</td>\n",
       "</tr>\n",
       "<tr>\n",
       "  <th>Prob(Omnibus):</th> <td> 0.821</td> <th>  Jarque-Bera (JB):  </th> <td>   0.287</td>\n",
       "</tr>\n",
       "<tr>\n",
       "  <th>Skew:</th>          <td> 0.259</td> <th>  Prob(JB):          </th> <td>   0.866</td>\n",
       "</tr>\n",
       "<tr>\n",
       "  <th>Kurtosis:</th>      <td> 2.723</td> <th>  Cond. No.          </th> <td>    11.1</td>\n",
       "</tr>\n",
       "</table><br/><br/>Notes:<br/>[1] Standard Errors assume that the covariance matrix of the errors is correctly specified."
      ],
      "text/latex": [
       "\\begin{center}\n",
       "\\begin{tabular}{lclc}\n",
       "\\toprule\n",
       "\\textbf{Dep. Variable:}    &        y         & \\textbf{  R-squared:         } &     0.973   \\\\\n",
       "\\textbf{Model:}            &       OLS        & \\textbf{  Adj. R-squared:    } &     0.972   \\\\\n",
       "\\textbf{Method:}           &  Least Squares   & \\textbf{  F-statistic:       } &     652.8   \\\\\n",
       "\\textbf{Date:}             & Wed, 29 Nov 2023 & \\textbf{  Prob (F-statistic):} &  1.35e-15   \\\\\n",
       "\\textbf{Time:}             &     15:44:20     & \\textbf{  Log-Likelihood:    } &   -46.374   \\\\\n",
       "\\textbf{No. Observations:} &          20      & \\textbf{  AIC:               } &     96.75   \\\\\n",
       "\\textbf{Df Residuals:}     &          18      & \\textbf{  BIC:               } &     98.74   \\\\\n",
       "\\textbf{Df Model:}         &           1      & \\textbf{                     } &             \\\\\n",
       "\\textbf{Covariance Type:}  &    nonrobust     & \\textbf{                     } &             \\\\\n",
       "\\bottomrule\n",
       "\\end{tabular}\n",
       "\\begin{tabular}{lcccccc}\n",
       "                   & \\textbf{coef} & \\textbf{std err} & \\textbf{t} & \\textbf{P$> |$t$|$} & \\textbf{[0.025} & \\textbf{0.975]}  \\\\\n",
       "\\midrule\n",
       "\\textbf{Intercept} &       1.7322  &        1.121     &     1.546  &         0.140        &       -0.622    &        4.086     \\\\\n",
       "\\textbf{x}         &       5.1169  &        0.200     &    25.551  &         0.000        &        4.696    &        5.538     \\\\\n",
       "\\bottomrule\n",
       "\\end{tabular}\n",
       "\\begin{tabular}{lclc}\n",
       "\\textbf{Omnibus:}       &  0.394 & \\textbf{  Durbin-Watson:     } &    2.066  \\\\\n",
       "\\textbf{Prob(Omnibus):} &  0.821 & \\textbf{  Jarque-Bera (JB):  } &    0.287  \\\\\n",
       "\\textbf{Skew:}          &  0.259 & \\textbf{  Prob(JB):          } &    0.866  \\\\\n",
       "\\textbf{Kurtosis:}      &  2.723 & \\textbf{  Cond. No.          } &     11.1  \\\\\n",
       "\\bottomrule\n",
       "\\end{tabular}\n",
       "%\\caption{OLS Regression Results}\n",
       "\\end{center}\n",
       "\n",
       "Notes: \\newline\n",
       " [1] Standard Errors assume that the covariance matrix of the errors is correctly specified."
      ],
      "text/plain": [
       "<class 'statsmodels.iolib.summary.Summary'>\n",
       "\"\"\"\n",
       "                            OLS Regression Results                            \n",
       "==============================================================================\n",
       "Dep. Variable:                      y   R-squared:                       0.973\n",
       "Model:                            OLS   Adj. R-squared:                  0.972\n",
       "Method:                 Least Squares   F-statistic:                     652.8\n",
       "Date:                Wed, 29 Nov 2023   Prob (F-statistic):           1.35e-15\n",
       "Time:                        15:44:20   Log-Likelihood:                -46.374\n",
       "No. Observations:                  20   AIC:                             96.75\n",
       "Df Residuals:                      18   BIC:                             98.74\n",
       "Df Model:                           1                                         \n",
       "Covariance Type:            nonrobust                                         \n",
       "==============================================================================\n",
       "                 coef    std err          t      P>|t|      [0.025      0.975]\n",
       "------------------------------------------------------------------------------\n",
       "Intercept      1.7322      1.121      1.546      0.140      -0.622       4.086\n",
       "x              5.1169      0.200     25.551      0.000       4.696       5.538\n",
       "==============================================================================\n",
       "Omnibus:                        0.394   Durbin-Watson:                   2.066\n",
       "Prob(Omnibus):                  0.821   Jarque-Bera (JB):                0.287\n",
       "Skew:                           0.259   Prob(JB):                        0.866\n",
       "Kurtosis:                       2.723   Cond. No.                         11.1\n",
       "==============================================================================\n",
       "\n",
       "Notes:\n",
       "[1] Standard Errors assume that the covariance matrix of the errors is correctly specified.\n",
       "\"\"\""
      ]
     },
     "execution_count": 24,
     "metadata": {},
     "output_type": "execute_result"
    }
   ],
   "source": [
    "df3_revised_model = smf.ols(formula = \"y ~ x\", data = df3_revised)\n",
    "df3_revised_results = df3_revised_model.fit()\n",
    "df3_revised_results.summary()"
   ]
  },
  {
   "cell_type": "markdown",
   "id": "3168f7f0-6e53-43b6-a255-effb3fdcb3c7",
   "metadata": {},
   "source": [
    "## Conclusion"
   ]
  },
  {
   "cell_type": "markdown",
   "id": "d15f5b3d-4dd3-45a4-a418-3d4204c536e3",
   "metadata": {},
   "source": [
    "Removing the data point that could potentially be influential had minimal impact on r^2.  The point also had little impact on the intercept and x-coefficient.  By these factors, the datapoint would not be considered influential."
   ]
  },
  {
   "cell_type": "markdown",
   "id": "28d1293d-11d5-4b55-8f21-791e3daacea6",
   "metadata": {},
   "source": [
    "# Dataframe 4"
   ]
  },
  {
   "cell_type": "code",
   "execution_count": 25,
   "id": "a1f198c1-49c4-4022-be89-c9dd0a343d23",
   "metadata": {},
   "outputs": [],
   "source": [
    "df4_model = smf.ols(formula = \"y ~ x\", data = df4)\n",
    "df4_results = df4_model.fit()"
   ]
  },
  {
   "cell_type": "code",
   "execution_count": 26,
   "id": "d9d695b6-fdeb-41d9-bc52-45e79cdf7792",
   "metadata": {},
   "outputs": [
    {
     "data": {
      "text/html": [
       "<table class=\"simpletable\">\n",
       "<caption>OLS Regression Results</caption>\n",
       "<tr>\n",
       "  <th>Dep. Variable:</th>            <td>y</td>        <th>  R-squared:         </th> <td>   0.552</td>\n",
       "</tr>\n",
       "<tr>\n",
       "  <th>Model:</th>                   <td>OLS</td>       <th>  Adj. R-squared:    </th> <td>   0.528</td>\n",
       "</tr>\n",
       "<tr>\n",
       "  <th>Method:</th>             <td>Least Squares</td>  <th>  F-statistic:       </th> <td>   23.41</td>\n",
       "</tr>\n",
       "<tr>\n",
       "  <th>Date:</th>             <td>Wed, 29 Nov 2023</td> <th>  Prob (F-statistic):</th> <td>0.000114</td>\n",
       "</tr>\n",
       "<tr>\n",
       "  <th>Time:</th>                 <td>15:44:20</td>     <th>  Log-Likelihood:    </th> <td> -78.017</td>\n",
       "</tr>\n",
       "<tr>\n",
       "  <th>No. Observations:</th>      <td>    21</td>      <th>  AIC:               </th> <td>   160.0</td>\n",
       "</tr>\n",
       "<tr>\n",
       "  <th>Df Residuals:</th>          <td>    19</td>      <th>  BIC:               </th> <td>   162.1</td>\n",
       "</tr>\n",
       "<tr>\n",
       "  <th>Df Model:</th>              <td>     1</td>      <th>                     </th>     <td> </td>   \n",
       "</tr>\n",
       "<tr>\n",
       "  <th>Covariance Type:</th>      <td>nonrobust</td>    <th>                     </th>     <td> </td>   \n",
       "</tr>\n",
       "</table>\n",
       "<table class=\"simpletable\">\n",
       "<tr>\n",
       "      <td></td>         <th>coef</th>     <th>std err</th>      <th>t</th>      <th>P>|t|</th>  <th>[0.025</th>    <th>0.975]</th>  \n",
       "</tr>\n",
       "<tr>\n",
       "  <th>Intercept</th> <td>    8.5046</td> <td>    4.222</td> <td>    2.014</td> <td> 0.058</td> <td>   -0.333</td> <td>   17.342</td>\n",
       "</tr>\n",
       "<tr>\n",
       "  <th>x</th>         <td>    3.3198</td> <td>    0.686</td> <td>    4.838</td> <td> 0.000</td> <td>    1.884</td> <td>    4.756</td>\n",
       "</tr>\n",
       "</table>\n",
       "<table class=\"simpletable\">\n",
       "<tr>\n",
       "  <th>Omnibus:</th>       <td>27.066</td> <th>  Durbin-Watson:     </th> <td>   1.042</td>\n",
       "</tr>\n",
       "<tr>\n",
       "  <th>Prob(Omnibus):</th> <td> 0.000</td> <th>  Jarque-Bera (JB):  </th> <td>  49.826</td>\n",
       "</tr>\n",
       "<tr>\n",
       "  <th>Skew:</th>          <td>-2.197</td> <th>  Prob(JB):          </th> <td>1.52e-11</td>\n",
       "</tr>\n",
       "<tr>\n",
       "  <th>Kurtosis:</th>      <td> 9.136</td> <th>  Cond. No.          </th> <td>    11.6</td>\n",
       "</tr>\n",
       "</table><br/><br/>Notes:<br/>[1] Standard Errors assume that the covariance matrix of the errors is correctly specified."
      ],
      "text/latex": [
       "\\begin{center}\n",
       "\\begin{tabular}{lclc}\n",
       "\\toprule\n",
       "\\textbf{Dep. Variable:}    &        y         & \\textbf{  R-squared:         } &     0.552   \\\\\n",
       "\\textbf{Model:}            &       OLS        & \\textbf{  Adj. R-squared:    } &     0.528   \\\\\n",
       "\\textbf{Method:}           &  Least Squares   & \\textbf{  F-statistic:       } &     23.41   \\\\\n",
       "\\textbf{Date:}             & Wed, 29 Nov 2023 & \\textbf{  Prob (F-statistic):} &  0.000114   \\\\\n",
       "\\textbf{Time:}             &     15:44:20     & \\textbf{  Log-Likelihood:    } &   -78.017   \\\\\n",
       "\\textbf{No. Observations:} &          21      & \\textbf{  AIC:               } &     160.0   \\\\\n",
       "\\textbf{Df Residuals:}     &          19      & \\textbf{  BIC:               } &     162.1   \\\\\n",
       "\\textbf{Df Model:}         &           1      & \\textbf{                     } &             \\\\\n",
       "\\textbf{Covariance Type:}  &    nonrobust     & \\textbf{                     } &             \\\\\n",
       "\\bottomrule\n",
       "\\end{tabular}\n",
       "\\begin{tabular}{lcccccc}\n",
       "                   & \\textbf{coef} & \\textbf{std err} & \\textbf{t} & \\textbf{P$> |$t$|$} & \\textbf{[0.025} & \\textbf{0.975]}  \\\\\n",
       "\\midrule\n",
       "\\textbf{Intercept} &       8.5046  &        4.222     &     2.014  &         0.058        &       -0.333    &       17.342     \\\\\n",
       "\\textbf{x}         &       3.3198  &        0.686     &     4.838  &         0.000        &        1.884    &        4.756     \\\\\n",
       "\\bottomrule\n",
       "\\end{tabular}\n",
       "\\begin{tabular}{lclc}\n",
       "\\textbf{Omnibus:}       & 27.066 & \\textbf{  Durbin-Watson:     } &    1.042  \\\\\n",
       "\\textbf{Prob(Omnibus):} &  0.000 & \\textbf{  Jarque-Bera (JB):  } &   49.826  \\\\\n",
       "\\textbf{Skew:}          & -2.197 & \\textbf{  Prob(JB):          } & 1.52e-11  \\\\\n",
       "\\textbf{Kurtosis:}      &  9.136 & \\textbf{  Cond. No.          } &     11.6  \\\\\n",
       "\\bottomrule\n",
       "\\end{tabular}\n",
       "%\\caption{OLS Regression Results}\n",
       "\\end{center}\n",
       "\n",
       "Notes: \\newline\n",
       " [1] Standard Errors assume that the covariance matrix of the errors is correctly specified."
      ],
      "text/plain": [
       "<class 'statsmodels.iolib.summary.Summary'>\n",
       "\"\"\"\n",
       "                            OLS Regression Results                            \n",
       "==============================================================================\n",
       "Dep. Variable:                      y   R-squared:                       0.552\n",
       "Model:                            OLS   Adj. R-squared:                  0.528\n",
       "Method:                 Least Squares   F-statistic:                     23.41\n",
       "Date:                Wed, 29 Nov 2023   Prob (F-statistic):           0.000114\n",
       "Time:                        15:44:20   Log-Likelihood:                -78.017\n",
       "No. Observations:                  21   AIC:                             160.0\n",
       "Df Residuals:                      19   BIC:                             162.1\n",
       "Df Model:                           1                                         \n",
       "Covariance Type:            nonrobust                                         \n",
       "==============================================================================\n",
       "                 coef    std err          t      P>|t|      [0.025      0.975]\n",
       "------------------------------------------------------------------------------\n",
       "Intercept      8.5046      4.222      2.014      0.058      -0.333      17.342\n",
       "x              3.3198      0.686      4.838      0.000       1.884       4.756\n",
       "==============================================================================\n",
       "Omnibus:                       27.066   Durbin-Watson:                   1.042\n",
       "Prob(Omnibus):                  0.000   Jarque-Bera (JB):               49.826\n",
       "Skew:                          -2.197   Prob(JB):                     1.52e-11\n",
       "Kurtosis:                       9.136   Cond. No.                         11.6\n",
       "==============================================================================\n",
       "\n",
       "Notes:\n",
       "[1] Standard Errors assume that the covariance matrix of the errors is correctly specified.\n",
       "\"\"\""
      ]
     },
     "execution_count": 26,
     "metadata": {},
     "output_type": "execute_result"
    }
   ],
   "source": [
    "df4_results.summary()"
   ]
  },
  {
   "cell_type": "code",
   "execution_count": 28,
   "id": "5704e2be-dcc6-4485-851a-baa0b1569b72",
   "metadata": {},
   "outputs": [
    {
     "data": {
      "text/plain": [
       "<Axes: xlabel='x', ylabel='y'>"
      ]
     },
     "execution_count": 28,
     "metadata": {},
     "output_type": "execute_result"
    },
    {
     "data": {
      "image/png": "[encoded data removed]",
      "text/plain": [
       "<Figure size 640x480 with 1 Axes>"
      ]
     },
     "metadata": {},
     "output_type": "display_data"
    }
   ],
   "source": [
    "sns.regplot( x = 'x', y = 'y', data = df4)"
   ]
  },
  {
   "cell_type": "code",
   "execution_count": 29,
   "id": "ac6df4ff-f377-42ca-8716-da1baf1db60e",
   "metadata": {},
   "outputs": [],
   "source": [
    "df4_revised = df4.iloc[0:20]"
   ]
  },
  {
   "cell_type": "code",
   "execution_count": 32,
   "id": "8a43eaca-6e6e-4816-8232-023e2cdae306",
   "metadata": {},
   "outputs": [
    {
     "data": {
      "text/plain": [
       "<Axes: xlabel='x', ylabel='y'>"
      ]
     },
     "execution_count": 32,
     "metadata": {},
     "output_type": "execute_result"
    },
    {
     "data": {
      "image/png": "[encoded data removed]",
      "text/plain": [
       "<Figure size 640x480 with 1 Axes>"
      ]
     },
     "metadata": {},
     "output_type": "display_data"
    }
   ],
   "source": [
    "sns.regplot(x = 'x', y = 'y', data = df4_revised)"
   ]
  },
  {
   "cell_type": "code",
   "execution_count": 30,
   "id": "586dd6ea-0d18-456d-b629-fc21f7a35900",
   "metadata": {},
   "outputs": [
    {
     "data": {
      "text/html": [
       "<table class=\"simpletable\">\n",
       "<caption>OLS Regression Results</caption>\n",
       "<tr>\n",
       "  <th>Dep. Variable:</th>            <td>y</td>        <th>  R-squared:         </th> <td>   0.973</td>\n",
       "</tr>\n",
       "<tr>\n",
       "  <th>Model:</th>                   <td>OLS</td>       <th>  Adj. R-squared:    </th> <td>   0.972</td>\n",
       "</tr>\n",
       "<tr>\n",
       "  <th>Method:</th>             <td>Least Squares</td>  <th>  F-statistic:       </th> <td>   652.8</td>\n",
       "</tr>\n",
       "<tr>\n",
       "  <th>Date:</th>             <td>Wed, 29 Nov 2023</td> <th>  Prob (F-statistic):</th> <td>1.35e-15</td>\n",
       "</tr>\n",
       "<tr>\n",
       "  <th>Time:</th>                 <td>15:44:21</td>     <th>  Log-Likelihood:    </th> <td> -46.374</td>\n",
       "</tr>\n",
       "<tr>\n",
       "  <th>No. Observations:</th>      <td>    20</td>      <th>  AIC:               </th> <td>   96.75</td>\n",
       "</tr>\n",
       "<tr>\n",
       "  <th>Df Residuals:</th>          <td>    18</td>      <th>  BIC:               </th> <td>   98.74</td>\n",
       "</tr>\n",
       "<tr>\n",
       "  <th>Df Model:</th>              <td>     1</td>      <th>                     </th>     <td> </td>   \n",
       "</tr>\n",
       "<tr>\n",
       "  <th>Covariance Type:</th>      <td>nonrobust</td>    <th>                     </th>     <td> </td>   \n",
       "</tr>\n",
       "</table>\n",
       "<table class=\"simpletable\">\n",
       "<tr>\n",
       "      <td></td>         <th>coef</th>     <th>std err</th>      <th>t</th>      <th>P>|t|</th>  <th>[0.025</th>    <th>0.975]</th>  \n",
       "</tr>\n",
       "<tr>\n",
       "  <th>Intercept</th> <td>    1.7322</td> <td>    1.121</td> <td>    1.546</td> <td> 0.140</td> <td>   -0.622</td> <td>    4.086</td>\n",
       "</tr>\n",
       "<tr>\n",
       "  <th>x</th>         <td>    5.1169</td> <td>    0.200</td> <td>   25.551</td> <td> 0.000</td> <td>    4.696</td> <td>    5.538</td>\n",
       "</tr>\n",
       "</table>\n",
       "<table class=\"simpletable\">\n",
       "<tr>\n",
       "  <th>Omnibus:</th>       <td> 0.394</td> <th>  Durbin-Watson:     </th> <td>   2.066</td>\n",
       "</tr>\n",
       "<tr>\n",
       "  <th>Prob(Omnibus):</th> <td> 0.821</td> <th>  Jarque-Bera (JB):  </th> <td>   0.287</td>\n",
       "</tr>\n",
       "<tr>\n",
       "  <th>Skew:</th>          <td> 0.259</td> <th>  Prob(JB):          </th> <td>   0.866</td>\n",
       "</tr>\n",
       "<tr>\n",
       "  <th>Kurtosis:</th>      <td> 2.723</td> <th>  Cond. No.          </th> <td>    11.1</td>\n",
       "</tr>\n",
       "</table><br/><br/>Notes:<br/>[1] Standard Errors assume that the covariance matrix of the errors is correctly specified."
      ],
      "text/latex": [
       "\\begin{center}\n",
       "\\begin{tabular}{lclc}\n",
       "\\toprule\n",
       "\\textbf{Dep. Variable:}    &        y         & \\textbf{  R-squared:         } &     0.973   \\\\\n",
       "\\textbf{Model:}            &       OLS        & \\textbf{  Adj. R-squared:    } &     0.972   \\\\\n",
       "\\textbf{Method:}           &  Least Squares   & \\textbf{  F-statistic:       } &     652.8   \\\\\n",
       "\\textbf{Date:}             & Wed, 29 Nov 2023 & \\textbf{  Prob (F-statistic):} &  1.35e-15   \\\\\n",
       "\\textbf{Time:}             &     15:44:21     & \\textbf{  Log-Likelihood:    } &   -46.374   \\\\\n",
       "\\textbf{No. Observations:} &          20      & \\textbf{  AIC:               } &     96.75   \\\\\n",
       "\\textbf{Df Residuals:}     &          18      & \\textbf{  BIC:               } &     98.74   \\\\\n",
       "\\textbf{Df Model:}         &           1      & \\textbf{                     } &             \\\\\n",
       "\\textbf{Covariance Type:}  &    nonrobust     & \\textbf{                     } &             \\\\\n",
       "\\bottomrule\n",
       "\\end{tabular}\n",
       "\\begin{tabular}{lcccccc}\n",
       "                   & \\textbf{coef} & \\textbf{std err} & \\textbf{t} & \\textbf{P$> |$t$|$} & \\textbf{[0.025} & \\textbf{0.975]}  \\\\\n",
       "\\midrule\n",
       "\\textbf{Intercept} &       1.7322  &        1.121     &     1.546  &         0.140        &       -0.622    &        4.086     \\\\\n",
       "\\textbf{x}         &       5.1169  &        0.200     &    25.551  &         0.000        &        4.696    &        5.538     \\\\\n",
       "\\bottomrule\n",
       "\\end{tabular}\n",
       "\\begin{tabular}{lclc}\n",
       "\\textbf{Omnibus:}       &  0.394 & \\textbf{  Durbin-Watson:     } &    2.066  \\\\\n",
       "\\textbf{Prob(Omnibus):} &  0.821 & \\textbf{  Jarque-Bera (JB):  } &    0.287  \\\\\n",
       "\\textbf{Skew:}          &  0.259 & \\textbf{  Prob(JB):          } &    0.866  \\\\\n",
       "\\textbf{Kurtosis:}      &  2.723 & \\textbf{  Cond. No.          } &     11.1  \\\\\n",
       "\\bottomrule\n",
       "\\end{tabular}\n",
       "%\\caption{OLS Regression Results}\n",
       "\\end{center}\n",
       "\n",
       "Notes: \\newline\n",
       " [1] Standard Errors assume that the covariance matrix of the errors is correctly specified."
      ],
      "text/plain": [
       "<class 'statsmodels.iolib.summary.Summary'>\n",
       "\"\"\"\n",
       "                            OLS Regression Results                            \n",
       "==============================================================================\n",
       "Dep. Variable:                      y   R-squared:                       0.973\n",
       "Model:                            OLS   Adj. R-squared:                  0.972\n",
       "Method:                 Least Squares   F-statistic:                     652.8\n",
       "Date:                Wed, 29 Nov 2023   Prob (F-statistic):           1.35e-15\n",
       "Time:                        15:44:21   Log-Likelihood:                -46.374\n",
       "No. Observations:                  20   AIC:                             96.75\n",
       "Df Residuals:                      18   BIC:                             98.74\n",
       "Df Model:                           1                                         \n",
       "Covariance Type:            nonrobust                                         \n",
       "==============================================================================\n",
       "                 coef    std err          t      P>|t|      [0.025      0.975]\n",
       "------------------------------------------------------------------------------\n",
       "Intercept      1.7322      1.121      1.546      0.140      -0.622       4.086\n",
       "x              5.1169      0.200     25.551      0.000       4.696       5.538\n",
       "==============================================================================\n",
       "Omnibus:                        0.394   Durbin-Watson:                   2.066\n",
       "Prob(Omnibus):                  0.821   Jarque-Bera (JB):                0.287\n",
       "Skew:                           0.259   Prob(JB):                        0.866\n",
       "Kurtosis:                       2.723   Cond. No.                         11.1\n",
       "==============================================================================\n",
       "\n",
       "Notes:\n",
       "[1] Standard Errors assume that the covariance matrix of the errors is correctly specified.\n",
       "\"\"\""
      ]
     },
     "execution_count": 30,
     "metadata": {},
     "output_type": "execute_result"
    }
   ],
   "source": [
    "df4_revised_model = smf.ols(formula = \"y ~ x\", data = df4_revised)\n",
    "df4_revised_results = df4_revised_model.fit()\n",
    "df4_revised_results.summary()"
   ]
  },
  {
   "cell_type": "markdown",
   "id": "6b9f9e61-7920-44de-9f17-073297b0dc07",
   "metadata": {},
   "source": [
    "## Conclusion"
   ]
  },
  {
   "cell_type": "markdown",
   "id": "51551ee6-b827-403c-9620-37fa7697aac6",
   "metadata": {},
   "source": [
    "Removing the data point that could potentially be influentail resulted in a drastic increase of the r^2 value.  The intercept also decreased nearly 8 units, while the x coefficient increased nearly two units.  By this measure the data point would be considered influential."
   ]
  },
  {
   "cell_type": "code",
   "execution_count": null,
   "id": "cb36d413-ab1a-4da7-b9aa-7d08f62dd15c",
   "metadata": {},
   "outputs": [],
   "source": []
  }
 ],
 "metadata": {
  "kernelspec": {
   "display_name": "Python 3 (ipykernel)",
   "language": "python",
   "name": "python3"
  },
  "language_info": {
   "codemirror_mode": {
    "name": "ipython",
    "version": 3
   },
   "file_extension": ".py",
   "mimetype": "text/x-python",
   "name": "python",
   "nbconvert_exporter": "python",
   "pygments_lexer": "ipython3",
   "version": "3.11.6"
  }
 },
 "nbformat": 4,
 "nbformat_minor": 5
}
